{
 "cells": [
  {
   "cell_type": "code",
   "execution_count": 1,
   "metadata": {},
   "outputs": [],
   "source": [
    "import torch as tr\n",
    "import numpy as np\n",
    "from CSW import *\n",
    "\n",
    "from matplotlib import pyplot as plt\n",
    "%matplotlib inline\n",
    "\n",
    "%load_ext autoreload\n",
    "%reload_ext autoreload\n",
    "%autoreload 2"
   ]
  },
  {
   "cell_type": "markdown",
   "metadata": {},
   "source": [
    "# match human data\n",
    "- to match human i need to prop one sentence at a time. otherwise the network will do well on later sentences (because after observing one transition the next are determined)\n",
    "- backprop for each sample, flush at end of story"
   ]
  },
  {
   "cell_type": "code",
   "execution_count": 2,
   "metadata": {},
   "outputs": [],
   "source": [
    "task = CSWTask(graph_pr=1.0)"
   ]
  },
  {
   "cell_type": "code",
   "execution_count": 3,
   "metadata": {},
   "outputs": [],
   "source": [
    "# task\n",
    "pr = 1.0\n",
    "taskL = [CSWTask(pr),CSWTask(1-pr)]\n",
    "\n",
    "eval_pathL = [\n",
    "  [10,0,1,4,5],       \n",
    "  [11,0,1,3,5],\n",
    "  ]\n",
    "\n",
    "xeval = taskL[0].format_Xeval(eval_pathL)\n",
    "xeval = tr.tensor(xeval)"
   ]
  },
  {
   "cell_type": "code",
   "execution_count": 5,
   "metadata": {},
   "outputs": [],
   "source": [
    "# condition\n",
    "block_len0 = 40\n",
    "bpmode='story'\n",
    "# nnets\n",
    "nnets = 10\n",
    "## params\n",
    "stsize = 40\n",
    "learn_rate = 0.05\n",
    "neps = 200\n",
    "\n",
    "## train setup\n",
    "softmax = lambda ulog: tr.softmax(ulog,-1)\n",
    "lossop = tr.nn.CrossEntropyLoss()\n",
    "acc = -np.ones([nnets,neps])\n",
    "# eval array\n",
    "tdim,sm_dim=5,12\n",
    "ysm = -np.ones([nnets,2,neps,tdim,sm_dim])\n",
    "\n",
    "## loop over seeds\n",
    "for seed in range(nnets):\n",
    "  lossL = []\n",
    "  # init net\n",
    "  net = CSWNet(stsize,seed)\n",
    "  optiop = tr.optim.Adam(net.parameters(), lr=learn_rate)\n",
    "  ## train loop\n",
    "  task_int = 0\n",
    "  block_len = block_len0 \n",
    "  for ep in range(neps):\n",
    "    if ep >= 160:\n",
    "      block_len = 1\n",
    "    # select graph\n",
    "    if ep%block_len==0:\n",
    "      task_int = (task_int+1)%2\n",
    "      task = taskL[task_int]\n",
    "      filler_id = 10+task_int \n",
    "    # forward prop  \n",
    "    path = task.sample_path()\n",
    "    xtrain,ytrain = task.dataset_onestory_with_marker(path=path,filler_id=filler_id,depth=1)\n",
    "    yh = net(xtrain) # (time,smunits)\n",
    "    yh_sm = softmax(yh).detach().numpy()\n",
    "    yt = ytrain.detach().numpy().squeeze()\n",
    "    acc[seed,ep] = np.mean(np.equal(np.argmax(yh_sm[3:4],1),yt[3:4]))\n",
    "    # eval\n",
    "    for idx,xev in enumerate(xeval):\n",
    "      ysm_t = softmax(net(xev)).detach().numpy()\n",
    "      ysm[seed,idx,ep] = ysm_t\n",
    "    if bpmode=='scene':\n",
    "      loss = 0\n",
    "      for tstep in range(len(xtrain)):\n",
    "        loss = lossop(yh[tstep].unsqueeze(0),ytrain[tstep])\n",
    "        optiop.zero_grad()\n",
    "        loss.backward(retain_graph=True)\n",
    "        optiop.step()\n",
    "    elif bpmode=='story':\n",
    "      loss = 0\n",
    "      for tstep in range(len(xtrain)):\n",
    "        loss += lossop(yh[tstep].unsqueeze(0),ytrain[tstep])\n",
    "      optiop.zero_grad()\n",
    "      loss.backward(retain_graph=True)\n",
    "      optiop.step()\n",
    "    lossL.append(loss)\n",
    "\n",
    "fpath = 'eval_data/matchSEM/'\n",
    "np.save(fpath+'ysm-blocklen%i-bpmode_%s'%(block_len0,bpmode),ysm)\n",
    "np.save(fpath+'acc-blocklen%i-bpmode_%s'%(block_len0,bpmode),acc)"
   ]
  },
  {
   "cell_type": "code",
   "execution_count": null,
   "metadata": {},
   "outputs": [],
   "source": []
  }
 ],
 "metadata": {
  "kernelspec": {
   "display_name": "Python 3",
   "language": "python",
   "name": "python3"
  },
  "language_info": {
   "codemirror_mode": {
    "name": "ipython",
    "version": 3
   },
   "file_extension": ".py",
   "mimetype": "text/x-python",
   "name": "python",
   "nbconvert_exporter": "python",
   "pygments_lexer": "ipython3",
   "version": "3.7.3"
  }
 },
 "nbformat": 4,
 "nbformat_minor": 2
}
